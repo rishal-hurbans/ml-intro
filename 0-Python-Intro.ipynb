{
 "cells": [
  {
   "cell_type": "markdown",
   "metadata": {
    "collapsed": true
   },
   "source": [
    "# Python Introduction\n",
    "\n",
    "This notebook will give you an introduction to Python.\n",
    "\n",
    "Python is a programming language that's most known for its elegant syntax and readable code, hence being perfect for beginners and very easy to learn for experienced programmers.\n",
    "\n",
    "Python is an interpreted language which means when you run your python program, an interpreter will translate the code line by line each time it's executed.\n",
    "\n",
    "Interpreted languages are fast to develop in (easy to edit and run) but are slower compared to compiled languages like C++ where the compiler first compiles the program and then runs it.\n"
   ]
  },
  {
   "cell_type": "code",
   "execution_count": 51,
   "metadata": {},
   "outputs": [
    {
     "name": "stdout",
     "output_type": "stream",
     "text": [
      "Hello World\n",
      "2\n",
      "Local time is 2018-03-23 14:40:53\n"
     ]
    }
   ],
   "source": [
    "import time\n",
    "\n",
    "# The print function lets you print to the console. This is useful to learn about what your code is doing\n",
    "print(\"Hello World\")\n",
    "print(1 + 1)\n",
    "print(\"Local time is \" + time.strftime(\"%Y-%m-%d %H:%M:%S\", time.localtime()))"
   ]
  },
  {
   "cell_type": "markdown",
   "metadata": {},
   "source": [
    "In programming, we use the concept of variables to store a value. A value could be a number, a character, etc. A group of characters such as \"Hello World\" is called a string. All strings must be wrapped by \" or ' characters in Python.\n",
    "\n",
    "Variable names should be nouns that must be meaningful to what it stores.\n",
    "\n",
    "The following rules apply to variable naming in Python:\n",
    "Names must start with a letter or an \"_\".\n",
    "\n",
    "From the second character onwards, letters, numbers and \"_\" can be used freely.\n",
    "\n",
    "Comments are used to notate your work. This details what certain parts of the code are for and lets other developers (including yourself) know what you were up to when writing the code. Comments are ignored by interpreters.\n"
   ]
  },
  {
   "cell_type": "code",
   "execution_count": 52,
   "metadata": {},
   "outputs": [
    {
     "name": "stdout",
     "output_type": "stream",
     "text": [
      "Hi Python\n",
      "Bye Python\n",
      "Sandy 32 42\n"
     ]
    }
   ],
   "source": [
    "print(\"Hi Python\")\n",
    "print('Bye Python')\n",
    "\n",
    "name = \"Sandy\"\n",
    "age = 32\n",
    "number_of_books_owned = 42\n",
    "\n",
    "print(name, age, number_of_books_owned)"
   ]
  },
  {
   "cell_type": "markdown",
   "metadata": {},
   "source": [
    "# Numbers\n",
    "\n",
    "Python supports different types of numbers such as integers and floating point numbers.\n",
    "\n",
    "An integer (int) is a number without a decimal point.\n",
    "\n",
    "A floating point number (float) contains decimals and it's used when more precision is needed."
   ]
  },
  {
   "cell_type": "code",
   "execution_count": 29,
   "metadata": {},
   "outputs": [
    {
     "name": "stdout",
     "output_type": "stream",
     "text": [
      "22 <class 'int'>\n",
      "22.22 <class 'float'>\n",
      "-22 <class 'int'>\n"
     ]
    }
   ],
   "source": [
    "whole_number = 22\n",
    "decimal_number = 22.22\n",
    "negative_whole_number = -22\n",
    "\n",
    "print(whole_number, type(whole_number))\n",
    "print(decimal_number, type(decimal_number))\n",
    "print(negative_whole_number, type(negative_whole_number))"
   ]
  },
  {
   "cell_type": "markdown",
   "metadata": {},
   "source": [
    "Python supports a variety of arithmetic operators. Such as:"
   ]
  },
  {
   "cell_type": "code",
   "execution_count": 2,
   "metadata": {},
   "outputs": [
    {
     "name": "stdout",
     "output_type": "stream",
     "text": [
      "a =  3\n",
      "b =  2\n",
      "Addition:  5\n",
      "Subtraction:  1\n",
      "Multiplication:  6\n",
      "Mod:  1\n",
      "Float division:  1.5\n",
      "Int division:  1\n",
      "Exponent:  4\n",
      "a =  4\n",
      "b =  4\n"
     ]
    }
   ],
   "source": [
    "a, b = 3, 2  # Alternatively: a = 3 and b = 2\n",
    "print(\"a = \", a)\n",
    "print(\"b = \", b)\n",
    "\n",
    "print(\"Addition: \", a + b)  # Addition\n",
    "print(\"Subtraction: \",a - b)  # Subtraction\n",
    "print(\"Multiplication: \", a * b)  # Multiplication\n",
    "print(\"Mod: \", a % b)  # Modulus - Remainder of a / b\n",
    "print(\"Float division: \", a / b)  # Float Division\n",
    "print(\"Int division: \", a // b)  # Integer Division\n",
    "print(\"Exponent: \", b ** 2)  # Exponent - left operand raised to the power of right\n",
    "\n",
    "# These are short-hand expressions for modifying the value of a variable\n",
    "a += 1\n",
    "b *= 2\n",
    "print(\"a = \", a)\n",
    "print(\"b = \", b)"
   ]
  },
  {
   "cell_type": "markdown",
   "metadata": {},
   "source": [
    "\n",
    "Any of the above operators can be used to make more complex expressions."
   ]
  },
  {
   "cell_type": "code",
   "execution_count": 62,
   "metadata": {},
   "outputs": [
    {
     "name": "stdout",
     "output_type": "stream",
     "text": [
      "77.0\n",
      "2.4444444444444446\n"
     ]
    }
   ],
   "source": [
    "a = 2\n",
    "b = 7\n",
    "c = 22\n",
    "\n",
    "x = c / a * b\n",
    "print(x)\n",
    "\n",
    "y = c / (a + b)\n",
    "print(y)"
   ]
  },
  {
   "cell_type": "markdown",
   "metadata": {
    "collapsed": true
   },
   "source": [
    "# Strings\n",
    "\n",
    "\n",
    "As we said above, strings are a group of characters which are enclosed by \" \" or ' '."
   ]
  },
  {
   "cell_type": "code",
   "execution_count": 30,
   "metadata": {},
   "outputs": [
    {
     "name": "stdout",
     "output_type": "stream",
     "text": [
      "Apple\n",
      "Orange\n"
     ]
    }
   ],
   "source": [
    "apple = \"Apple\"\n",
    "citrus = \"Orange\"\n",
    "\n",
    "print(apple)\n",
    "print(citrus)"
   ]
  },
  {
   "cell_type": "markdown",
   "metadata": {},
   "source": [
    "Python also supports special characters like new line characters or tabs."
   ]
  },
  {
   "cell_type": "code",
   "execution_count": 31,
   "metadata": {},
   "outputs": [
    {
     "name": "stdout",
     "output_type": "stream",
     "text": [
      "Sandy\n",
      "Smith\n"
     ]
    }
   ],
   "source": [
    "full_name = \"Sandy\\nSmith\"  # \\n is a new line character\n",
    "\n",
    "print(full_name)"
   ]
  },
  {
   "cell_type": "code",
   "execution_count": 32,
   "metadata": {},
   "outputs": [
    {
     "name": "stdout",
     "output_type": "stream",
     "text": [
      "Name\tSurname\tAge\n",
      "Sandy\tSmith\t32\n"
     ]
    }
   ],
   "source": [
    "some_tabular_header = \"Name\\tSurname\\tAge\"\n",
    "some_tabular_data = \"Sandy\\tSmith\\t32\"\n",
    "\n",
    "print(some_tabular_header)\n",
    "print(some_tabular_data)"
   ]
  },
  {
   "cell_type": "markdown",
   "metadata": {},
   "source": [
    "It is also possible to mix single quotes and double quotes where necessary."
   ]
  },
  {
   "cell_type": "code",
   "execution_count": 33,
   "metadata": {},
   "outputs": [
    {
     "name": "stdout",
     "output_type": "stream",
     "text": [
      "I'm a programmer\n"
     ]
    }
   ],
   "source": [
    "print(\"I'm a programmer\")  # Notice the single quote in the string for I'm\n"
   ]
  },
  {
   "cell_type": "markdown",
   "metadata": {},
   "source": [
    "Concatenation is used when joining multiple strings with the \"+\" operator."
   ]
  },
  {
   "cell_type": "code",
   "execution_count": 66,
   "metadata": {},
   "outputs": [
    {
     "name": "stdout",
     "output_type": "stream",
     "text": [
      "Hello, my name is Sandy Smith\n"
     ]
    }
   ],
   "source": [
    "name = \"Sandy\"\n",
    "surname = \"Smith\"\n",
    "\n",
    "message = \"Hello, my name is \" + name + \" \" + surname #Notice the spaces between the quotation marks\n",
    "print(message)\n"
   ]
  },
  {
   "cell_type": "markdown",
   "metadata": {},
   "source": [
    "This can be tedious and hard to read when maintaining code. So Python allows for injecting values into strings and formatting strings. As shown below, you can make use of curly brackets to specify which variables need to be substituted into the string.\n",
    "The index of the variables start at 0 like with most things in programming languages."
   ]
  },
  {
   "cell_type": "code",
   "execution_count": 34,
   "metadata": {},
   "outputs": [
    {
     "name": "stdout",
     "output_type": "stream",
     "text": [
      "Hello my name is Sandy Smith and I am 32 years old\n"
     ]
    }
   ],
   "source": [
    "name = \"Sandy\"\n",
    "surname = \"Smith\"\n",
    "age = 32\n",
    "\n",
    "message = \"Hello my name is {0} {1} and I am {2} years old\".format(name, surname, age)\n",
    "print(message)"
   ]
  },
  {
   "cell_type": "markdown",
   "metadata": {},
   "source": [
    "# Casting\n",
    "We have looked different data types such as integers, floats and strings. Sometimes we want to convert a value from one type to another. For example, if we ask someone to input their age, it's recorded as a string, but we need the integer value to do something meaningful. The process of converting a value from one type to another is called casting."
   ]
  },
  {
   "cell_type": "code",
   "execution_count": 55,
   "metadata": {},
   "outputs": [
    {
     "name": "stdout",
     "output_type": "stream",
     "text": [
      "18 <class 'str'>\n"
     ]
    }
   ],
   "source": [
    "age_as_string = \"18\"\n",
    "print(age_as_string, type(age_as_string))\n",
    "\n",
    "# Now we work with the value as a string\n",
    "print(age_as_string + 1)"
   ]
  },
  {
   "cell_type": "code",
   "execution_count": 54,
   "metadata": {},
   "outputs": [
    {
     "name": "stdout",
     "output_type": "stream",
     "text": [
      "18 <class 'int'>\n",
      "19\n"
     ]
    }
   ],
   "source": [
    "age_as_integer = int(age_as_string)\n",
    "print(age_as_integer, type(age_as_integer))\n",
    "\n",
    "# Now we can work with the value as a number\n",
    "print(age_as_integer + 1)"
   ]
  },
  {
   "cell_type": "markdown",
   "metadata": {},
   "source": [
    "# Making Decisions\n",
    "When programming, we often need to make logical decisions in the code according to some rule. Normally when a certain condition is met, something that we defined earlier should happen. For this, we use the if statement.\n"
   ]
  },
  {
   "cell_type": "code",
   "execution_count": 36,
   "metadata": {},
   "outputs": [
    {
     "name": "stdout",
     "output_type": "stream",
     "text": [
      "Sandy Smith, you're welcome\n"
     ]
    }
   ],
   "source": [
    "person_name = \"Sandy Smith\"\n",
    "person_age = 32\n",
    "person_country = \"RSA\"\n",
    "\n",
    "age_limit = 18\n",
    "\n",
    "if person_age >= age_limit:\n",
    "    message = person_name + \", you're welcome\"\n",
    "    print(message)"
   ]
  },
  {
   "cell_type": "markdown",
   "metadata": {},
   "source": [
    "Notice that the IF statement has a : at the end of the line to indicate the code following is meant to apply if the condition is satisfied. \n",
    "\n",
    "Note: In Python, tabs are used to declare blocks of code that belong together. The declaration of the variable \"message\" and the print statement are part of the same block of code.\n",
    "\n",
    "We can also test multiple conditions using \"and\" and \"or\" operators. Think about the example above, if someone is 18 and lives in RSA, that person is considered an adult."
   ]
  },
  {
   "cell_type": "code",
   "execution_count": 19,
   "metadata": {},
   "outputs": [
    {
     "name": "stdout",
     "output_type": "stream",
     "text": [
      "Welcome to responsibility\n"
     ]
    }
   ],
   "source": [
    "person_age = 20\n",
    "if person_age >= 18 and person_country == \"RSA\":\n",
    "    print(\"Welcome to responsibility\")\n",
    "    \n",
    "if person_age < 18:\n",
    "    print(\"You have no responsibility\")\n",
    "    "
   ]
  },
  {
   "cell_type": "markdown",
   "metadata": {},
   "source": [
    "Sometimes we have different code for if a condition is met and when its not."
   ]
  },
  {
   "cell_type": "code",
   "execution_count": 20,
   "metadata": {},
   "outputs": [
    {
     "name": "stdout",
     "output_type": "stream",
     "text": [
      "Sandy Smith, you're NOT welcome\n"
     ]
    }
   ],
   "source": [
    "person_age = 17\n",
    "\n",
    "if person_age >= age_limit:\n",
    "    message = person_name + \", you're welcome\"\n",
    "    print(message)\n",
    "else:\n",
    "    message = person_name + \", you're NOT welcome\"\n",
    "    print(message)"
   ]
  },
  {
   "cell_type": "markdown",
   "metadata": {},
   "source": [
    "And sometimes we have multiple conditions that we want to support."
   ]
  },
  {
   "cell_type": "code",
   "execution_count": 56,
   "metadata": {},
   "outputs": [
    {
     "name": "stdout",
     "output_type": "stream",
     "text": [
      "Enjoy your youth!\n"
     ]
    }
   ],
   "source": [
    "person_age = 13\n",
    "if 0 <= person_age < 18:\n",
    "    print(\"Enjoy your youth!\")\n",
    "elif 18 <= person_age <= 65:\n",
    "    print(\"Welcome to responsibility\")\n",
    "else:\n",
    "    print(\"Enjoy your reward!\")\n",
    "    "
   ]
  },
  {
   "cell_type": "markdown",
   "metadata": {},
   "source": [
    "# Loops\n",
    "One of the benefits of developing a program is to automate repetitive tasks. Loops are a sequence of instructions that's executed until a certain condition is reached.\n",
    "\n",
    "There are two different types of loops in Python, namely for loops and while loops.\n",
    "\n",
    "For loop: Do something for the a set or computed number of iterations.\n",
    "\n",
    "While loop: Do something while a condition holds true."
   ]
  },
  {
   "cell_type": "code",
   "execution_count": 57,
   "metadata": {},
   "outputs": [
    {
     "name": "stdout",
     "output_type": "stream",
     "text": [
      "0\n",
      "1\n",
      "2\n",
      "3\n",
      "4\n",
      "5\n",
      "6\n",
      "7\n",
      "8\n",
      "9\n"
     ]
    }
   ],
   "source": [
    "n = 1 #Difference between each number in the sequence, incrementing by n\n",
    "start = 0\n",
    "end = 10 #Up to but not including this number\n",
    "\n",
    "for i in range(start, end, n): \n",
    "    print(i)\n",
    "\n",
    "#Notice that it ends at 9"
   ]
  },
  {
   "cell_type": "code",
   "execution_count": 58,
   "metadata": {},
   "outputs": [
    {
     "name": "stdout",
     "output_type": "stream",
     "text": [
      "Guess a number until you get it right: 3\n",
      "Guess a number until you get it right: 4\n",
      "Guess a number until you get it right: 2\n",
      "Guess a number until you get it right: 5\n",
      "You guessed right!\n"
     ]
    }
   ],
   "source": [
    "# Guess a number between 0 and 10. \n",
    "correct_answer = 5\n",
    "guess = 0\n",
    "while guess != correct_answer:\n",
    "    guess = int(input(\"Guess a number until you get it right: \"))  # This is how you can get input for the console\n",
    "print(\"You guessed right!\")"
   ]
  },
  {
   "cell_type": "markdown",
   "metadata": {
    "collapsed": true
   },
   "source": [
    "Since a string is a list of characters we can iterate over it."
   ]
  },
  {
   "cell_type": "code",
   "execution_count": 41,
   "metadata": {},
   "outputs": [
    {
     "name": "stdout",
     "output_type": "stream",
     "text": [
      "S\n",
      "a\n",
      "n\n",
      "d\n",
      "y\n",
      " \n",
      "S\n",
      "m\n",
      "i\n",
      "t\n",
      "h\n"
     ]
    }
   ],
   "source": [
    "name = \"Sandy Smith\"\n",
    "for c in name:\n",
    "    print(c)"
   ]
  },
  {
   "cell_type": "markdown",
   "metadata": {},
   "source": [
    "# Lists & Sets\n",
    "When working with data, we need to be able to group data together. For this we use lists and sets.\n",
    "\n",
    "\n",
    "## Lists\n",
    "Lists are collections of items that can be duplicated, sorted and it retains order."
   ]
  },
  {
   "cell_type": "code",
   "execution_count": 7,
   "metadata": {},
   "outputs": [
    {
     "name": "stdout",
     "output_type": "stream",
     "text": [
      "['apple', 'orange', 'pear', 'banana', 'melon', 'lime']\n",
      "apple\n",
      "orange\n",
      "pear\n",
      "banana\n",
      "melon\n",
      "lime\n",
      "The second fruit is  orange\n",
      "['apple', 'orange', 'pear', 'banana', 'melon', 'lime', 'apple']\n"
     ]
    }
   ],
   "source": [
    "fruits = [\"apple\", \"orange\", \"pear\", \"banana\", \"melon\"]\n",
    "fruits.append(\"lime\") #This adds lime to the list of fruits\n",
    "\n",
    "print(fruits)\n",
    "\n",
    "print(\"The second fruit is \", fruits[1])\n",
    "\n",
    "fruits.append(\"apple\")  # Lists allow duplicates\n",
    "print(fruits)\n"
   ]
  },
  {
   "cell_type": "code",
   "execution_count": 22,
   "metadata": {},
   "outputs": [
    {
     "name": "stdout",
     "output_type": "stream",
     "text": [
      "['apple', 'apple', 'banana', 'lime', 'melon', 'orange', 'pear']\n"
     ]
    }
   ],
   "source": [
    "fruits.sort()\n",
    "print(fruits)"
   ]
  },
  {
   "cell_type": "code",
   "execution_count": 23,
   "metadata": {},
   "outputs": [
    {
     "name": "stdout",
     "output_type": "stream",
     "text": [
      "[0, 2, 4, 6, 8]\n",
      "[1, 3, 5, 7, 9]\n",
      "[0, 2, 4, 6, 8, 1, 3, 5, 7, 9]\n",
      "[0, 1, 2, 3, 4, 5, 6, 7, 8, 9]\n",
      "[9, 8, 7, 6, 5, 4, 3, 2, 1, 0]\n"
     ]
    }
   ],
   "source": [
    "even_numbers = list(range(0, 10, 2))\n",
    "odd_numbers = list(range(1, 10, 2))\n",
    "print(even_numbers)\n",
    "print(odd_numbers)\n",
    "\n",
    "all_numbers = even_numbers + odd_numbers  # Using the + operator creates a list that contains the contents of both\n",
    "print(all_numbers)\n",
    "\n",
    "all_numbers.sort()  # Order the list\n",
    "print(all_numbers)\n",
    "\n",
    "all_numbers.sort(reverse=True)  # Reverse order the list\n",
    "print(all_numbers)"
   ]
  },
  {
   "cell_type": "markdown",
   "metadata": {},
   "source": [
    "## Sets\n",
    "Sets are collections of items that are unique and it does not retain order."
   ]
  },
  {
   "cell_type": "code",
   "execution_count": 63,
   "metadata": {},
   "outputs": [
    {
     "name": "stdout",
     "output_type": "stream",
     "text": [
      "{'potato', 'corn', 'cucumber', 'olive'}\n"
     ]
    }
   ],
   "source": [
    "vegetables = {\"potato\", \"corn\", \"cucumber\", \"olive\"}\n",
    "print(vegetables)"
   ]
  },
  {
   "cell_type": "code",
   "execution_count": 64,
   "metadata": {},
   "outputs": [
    {
     "name": "stdout",
     "output_type": "stream",
     "text": [
      "{'potato', 'corn', 'cucumber', 'olive'}\n",
      "{'cucumber', 'onion', 'corn', 'potato', 'olive'}\n"
     ]
    }
   ],
   "source": [
    "vegetables.add(\"potato\") #potato doesn't get duplicated\n",
    "print(vegetables)\n",
    "vegetables.add(\"onion\")  # Notice that order is not guarenteed\n",
    "print(vegetables)"
   ]
  },
  {
   "cell_type": "code",
   "execution_count": 65,
   "metadata": {},
   "outputs": [
    {
     "name": "stdout",
     "output_type": "stream",
     "text": [
      "{0, 2, 4, 6, 8, 10, 12, 14, 16, 18}\n",
      "{1, 4, 36, 9, 16, 25}\n"
     ]
    }
   ],
   "source": [
    "even = set(range(0, 20, 2))\n",
    "squares = {1, 4, 9, 16, 25, 36}\n",
    "\n",
    "print(even)\n",
    "print(squares)"
   ]
  },
  {
   "cell_type": "markdown",
   "metadata": {},
   "source": [
    "Sets have other useful functions:"
   ]
  },
  {
   "cell_type": "code",
   "execution_count": 66,
   "metadata": {},
   "outputs": [
    {
     "name": "stdout",
     "output_type": "stream",
     "text": [
      "Union:  {0, 1, 2, 4, 36, 6, 8, 9, 10, 12, 14, 16, 18, 25}\n",
      "Intersection:  {16, 4}\n",
      "Difference:  {0, 2, 6, 8, 10, 12, 14, 18}\n"
     ]
    }
   ],
   "source": [
    "# Union of two sets: Create one set with the values from both\n",
    "print(\"Union: \", even.union(squares))\n",
    "\n",
    "# Intersection of two sets: Create one set that is the common values from both\n",
    "print(\"Intersection: \", even.intersection(squares))\n",
    "\n",
    "# Difference of two sets: Create one set that is the uncommon values from both\n",
    "print(\"Difference: \", even.difference(squares))"
   ]
  },
  {
   "cell_type": "markdown",
   "metadata": {},
   "source": [
    "# Functions\n",
    "Functions are blocks of re-usable code that perform a specific task. \"sort\", \"union\", and even \"print\" are all functions provided by Python. We can write our own functions in Python by following the same syntax as below."
   ]
  },
  {
   "cell_type": "code",
   "execution_count": 67,
   "metadata": {},
   "outputs": [
    {
     "name": "stdout",
     "output_type": "stream",
     "text": [
      "2\n",
      "3\n",
      "12\n"
     ]
    }
   ],
   "source": [
    "# Here's a function definition that takes in two numbers and returns the result\n",
    "def sum(a, b):\n",
    "    answer = a+b\n",
    "    return answer\n",
    "\n",
    "# Now we can call that function and reuse it with different parameters\n",
    "print(sum(1, 1))\n",
    "print(sum(2, 1))\n",
    "print(sum(7, 5))"
   ]
  },
  {
   "cell_type": "markdown",
   "metadata": {
    "collapsed": true
   },
   "source": [
    "Hopefully this has given you a good starting point to programming with Python."
   ]
  }
 ],
 "metadata": {
  "kernelspec": {
   "display_name": "Python 3",
   "language": "python",
   "name": "python3"
  },
  "language_info": {
   "codemirror_mode": {
    "name": "ipython",
    "version": 3
   },
   "file_extension": ".py",
   "mimetype": "text/x-python",
   "name": "python",
   "nbconvert_exporter": "python",
   "pygments_lexer": "ipython3",
   "version": "3.6.4"
  }
 },
 "nbformat": 4,
 "nbformat_minor": 2
}
