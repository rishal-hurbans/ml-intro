{
 "cells": [
  {
   "cell_type": "markdown",
   "metadata": {
    "collapsed": true
   },
   "source": [
    "# Classification\n",
    "Scikit-Learn is a Python package that provides some machine learning functions. Structures such as decisions trees are easy to use with minimal code. \n",
    "\n",
    "## Simple Classification \n",
    "We will be making use of the DecisionTreeClassifier.\n",
    "As with other classifiers, DecisionTreeClassifier takes as input two arrays: an array X, sparse or dense, of size [n_samples, n_features] holding the training samples, and an array Y of integer values, size [n_samples], holding the class labels for the training samples:"
   ]
  },
  {
   "cell_type": "code",
   "execution_count": 20,
   "metadata": {
    "collapsed": false
   },
   "outputs": [
    {
     "name": "stdout",
     "output_type": "stream",
     "text": [
      "Example 1\n",
      "[1]\n"
     ]
    }
   ],
   "source": [
    "from sklearn import tree\n",
    "\n",
    "#Example 1\n",
    "X = [[0, 0], [1, 1]]\n",
    "Y = [0, 1]\n",
    "clf = tree.DecisionTreeClassifier()\n",
    "clf = clf.fit(X, Y)\n",
    "print('Example 1')\n",
    "print(clf.predict([[2., 2.]]))\n"
   ]
  },
  {
   "cell_type": "code",
   "execution_count": 21,
   "metadata": {
    "collapsed": false
   },
   "outputs": [
    {
     "name": "stdout",
     "output_type": "stream",
     "text": [
      "Example 2\n",
      "['woman']\n"
     ]
    }
   ],
   "source": [
    "from sklearn import tree\n",
    "\n",
    "#Example 2\n",
    "#Create training data for decision tree\n",
    "#[height, hair-length, voice-pitch]\n",
    "X = [[180, 15, 0],\n",
    "     [167, 42, 1],\n",
    "     [136, 35, 1],\n",
    "     [174, 15, 0],\n",
    "     [141, 28, 1]]\n",
    "#Create target data for training set\n",
    "Y = ['man', 'woman', 'woman', 'man', 'woman']\n",
    "\n",
    "#Fitting the training data\n",
    "clf = tree.DecisionTreeClassifier()\n",
    "clf = clf.fit(X, Y)\n",
    "prediction = clf.predict([[133, 37, 1]])\n",
    "print('Example 2')\n",
    "print(prediction)"
   ]
  },
  {
   "cell_type": "code",
   "execution_count": 25,
   "metadata": {
    "collapsed": false
   },
   "outputs": [
    {
     "name": "stdout",
     "output_type": "stream",
     "text": [
      "[0]\n",
      "[ 5.1  3.5  1.4  0.2] 0\n",
      "['sepal length (cm)', 'sepal width (cm)', 'petal length (cm)', 'petal width (cm)'] ['setosa' 'versicolor' 'virginica']\n"
     ]
    }
   ],
   "source": [
    "from sklearn.datasets import load_iris\n",
    "from sklearn import tree\n",
    "import numpy as np\n",
    "\n",
    "# Instead of reading from our CSV file, Scikit-Learn provides us with the Iris dataset\n",
    "iris = load_iris()\n",
    "#print(iris)\n",
    "test_idx = [0, 50, 100]\n",
    "\n",
    "# Training data\n",
    "training_target = np.delete(iris.target, test_idx)\n",
    "training_data = np.delete(iris.data, test_idx, axis = 0)\n",
    "\n",
    "# Testing data\n",
    "testing_target = iris.target[test_idx]\n",
    "testing_data = iris.data[test_idx]\n",
    "\n",
    "classifier = tree.DecisionTreeClassifier()\n",
    "classifier.fit(training_data, training_target)\n",
    "\n",
    "print(classifier.predict(testing_data[:1]))\n",
    "print(testing_data[0], testing_target[0])\n",
    "print(iris.feature_names, iris.target_names)"
   ]
  },
  {
   "cell_type": "markdown",
   "metadata": {},
   "source": [
    "## Iris Flower Dataset\n",
    "Lets use what we've learned from the simple example above on a real dataset."
   ]
  },
  {
   "cell_type": "markdown",
   "metadata": {},
   "source": [
    "## Titanic Survival with Decision Tree Classifier\n",
    "Provided is a dataset with details unique to each passenger.\n",
    "Use this dataset to determine whether a passenger will survive or not.\n",
    "\n",
    "### The Dataset\n",
    "The following data sets are provided:\n",
    "* **Train:** A training dataset for training your machine learning algorithm.\n",
    "* **Test:** A training dataset for testing your machine learning algorithm.\n",
    "\n",
    "### Preparing the Data\n",
    "* Remember to convert all String data into categorical(numeric) data\n",
    "* Handle missing values appropriately\n",
    "\n",
    "Use the following datasets: \n",
    "* datasets/titanic_train.csv\n",
    "* datasets/titanic_test.csv"
   ]
  },
  {
   "cell_type": "code",
   "execution_count": 96,
   "metadata": {
    "collapsed": true
   },
   "outputs": [],
   "source": [
    "import csv\n",
    "import numpy as np\n",
    "from sklearn import tree\n",
    "\n",
    "# Read in data and identify features\n",
    "\n",
    "# Plot and understand your features (optional)\n",
    "\n",
    "# Convert any required features to numeric\n",
    "\n",
    "# Handle missing values\n",
    "\n",
    "# Make a Scikit Learn classifier\n",
    "\n",
    "# Fit the model using your classifier\n",
    "\n",
    "# Determine accuracy of model\n"
   ]
  },
  {
   "cell_type": "code",
   "execution_count": null,
   "metadata": {
    "collapsed": true
   },
   "outputs": [],
   "source": []
  }
 ],
 "metadata": {
  "anaconda-cloud": {},
  "kernelspec": {
   "display_name": "Python [default]",
   "language": "python",
   "name": "python3"
  },
  "language_info": {
   "codemirror_mode": {
    "name": "ipython",
    "version": 3
   },
   "file_extension": ".py",
   "mimetype": "text/x-python",
   "name": "python",
   "nbconvert_exporter": "python",
   "pygments_lexer": "ipython3",
   "version": "3.5.2"
  }
 },
 "nbformat": 4,
 "nbformat_minor": 2
}
